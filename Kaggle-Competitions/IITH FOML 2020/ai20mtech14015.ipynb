{
  "nbformat": 4,
  "nbformat_minor": 0,
  "metadata": {
    "kernelspec": {
      "name": "python3",
      "display_name": "Python 3",
      "language": "python"
    },
    "language_info": {
      "name": "python",
      "version": "3.7.6",
      "mimetype": "text/x-python",
      "codemirror_mode": {
        "name": "ipython",
        "version": 3
      },
      "pygments_lexer": "ipython3",
      "nbconvert_exporter": "python",
      "file_extension": ".py"
    },
    "colab": {
      "name": "ai20mtech14015.ipynb",
      "provenance": []
    }
  },
  "cells": [
    {
      "cell_type": "code",
      "metadata": {
        "_uuid": "8f2839f25d086af736a60e9eeb907d3b93b6e0e5",
        "_cell_guid": "b1076dfc-b9ad-4769-8c92-a6c4dae69d19",
        "trusted": true,
        "id": "5YW7Df8dy-37",
        "outputId": "41753786-5e1e-44dd-88c0-a6eb5deeb382"
      },
      "source": [
        "# This Python 3 environment comes with many helpful analytics libraries installed\n",
        "# It is defined by the kaggle/python Docker image: https://github.com/kaggle/docker-python\n",
        "# For example, here's several helpful packages to load\n",
        "\n",
        "import numpy as np # linear algebra\n",
        "import pandas as pd # data processing, CSV file I/O (e.g. pd.read_csv)\n",
        "\n",
        "# Input data files are available in the read-only \"../input/\" directory\n",
        "# For example, running this (by clicking run or pressing Shift+Enter) will list all files under the input directory\n",
        "\n",
        "import os\n",
        "for dirname, _, filenames in os.walk('/kaggle/input'):\n",
        "    for filename in filenames:\n",
        "        print(os.path.join(dirname, filename))\n",
        "\n",
        "# You can write up to 20GB to the current directory (/kaggle/working/) that gets preserved as output when you create a version using \"Save & Run All\" \n",
        "# You can also write temporary files to /kaggle/temp/, but they won't be saved outside of the current session"
      ],
      "execution_count": null,
      "outputs": [
        {
          "output_type": "stream",
          "text": [
            "/kaggle/input/iith-foml-2020/iith_foml_2020_test.csv\n",
            "/kaggle/input/iith-foml-2020/iith_foml_2020_sample.csv\n",
            "/kaggle/input/iith-foml-2020/iith_foml_2020_train.csv\n"
          ],
          "name": "stdout"
        }
      ]
    },
    {
      "cell_type": "code",
      "metadata": {
        "_uuid": "d629ff2d2480ee46fbb7e2d37f6b5fab8052498a",
        "_cell_guid": "79c7e3d0-c299-4dcb-8224-4455121ee9b0",
        "trusted": true,
        "id": "vnvCwnuJy-4C"
      },
      "source": [
        "#Import all required libraries\n",
        "import matplotlib.pyplot as plt\n",
        "import seaborn as sns"
      ],
      "execution_count": null,
      "outputs": []
    },
    {
      "cell_type": "code",
      "metadata": {
        "trusted": true,
        "id": "ozUHGvSwy-4D",
        "outputId": "533294b7-ff31-4b67-9b49-1166b5531ad6"
      },
      "source": [
        "# Read Training dataset\n",
        "train_dataframe = pd.read_csv('train_input.csv')\n",
        "train_dataframe.shape"
      ],
      "execution_count": null,
      "outputs": [
        {
          "output_type": "execute_result",
          "data": {
            "text/plain": [
              "(994, 25)"
            ]
          },
          "metadata": {
            "tags": []
          },
          "execution_count": 3
        }
      ]
    },
    {
      "cell_type": "code",
      "metadata": {
        "trusted": true,
        "id": "JXmySliky-4E",
        "outputId": "a40cec69-2d65-4335-83f3-c82ff521a5bd"
      },
      "source": [
        "# To analyse the count of null values in every feature\n",
        "train_dataframe.isnull().sum()"
      ],
      "execution_count": null,
      "outputs": [
        {
          "output_type": "execute_result",
          "data": {
            "text/plain": [
              "Feature 1 (Discrete)            0\n",
              "Feature 2 (Discrete)            0\n",
              "Feature 3 (Discrete)            0\n",
              "Feature 4 (Discrete)            0\n",
              "Feature 5 (Discrete)            0\n",
              "Feature 6 (Discrete)            0\n",
              "Feature 7 (Discrete)            0\n",
              "Feature 8 (Discrete)            0\n",
              "Feature 9                      14\n",
              "Feature 10                      1\n",
              "Feature 11                      1\n",
              "Feature 12                      1\n",
              "Feature 13                      1\n",
              "Feature 14                      1\n",
              "Feature 15                     72\n",
              "Feature 16                    669\n",
              "Feature 17                    546\n",
              "Feature 18                    330\n",
              "Feature 19 (Discrete)           0\n",
              "Feature 20 (Discrete)           0\n",
              "Feature 21 (Discrete)           0\n",
              "Feature 22 (Discrete)           0\n",
              "Feature 23 (Discrete)           0\n",
              "Feature 24                      1\n",
              "Target Variable (Discrete)      0\n",
              "dtype: int64"
            ]
          },
          "metadata": {
            "tags": []
          },
          "execution_count": 4
        }
      ]
    },
    {
      "cell_type": "code",
      "metadata": {
        "trusted": true,
        "id": "_3KkoDDYy-4E",
        "outputId": "cd3eb8a3-ed38-43a8-908a-75e9e4602d09"
      },
      "source": [
        "# Create correlation matrix\n",
        "corr_matrix = train_dataframe.corr().abs()\n",
        "print(corr_matrix)"
      ],
      "execution_count": null,
      "outputs": [
        {
          "output_type": "stream",
          "text": [
            "                            Feature 1 (Discrete)  Feature 2 (Discrete)  \\\n",
            "Feature 1 (Discrete)                    1.000000              0.103964   \n",
            "Feature 2 (Discrete)                    0.103964              1.000000   \n",
            "Feature 3 (Discrete)                    0.754664              0.050898   \n",
            "Feature 4 (Discrete)                    0.203457              0.401782   \n",
            "Feature 5 (Discrete)                    0.013211              0.056697   \n",
            "Feature 6 (Discrete)                    0.053105              0.037643   \n",
            "Feature 7 (Discrete)                    0.009949              0.056650   \n",
            "Feature 8 (Discrete)                    0.012435              0.165555   \n",
            "Feature 9                               0.011183              0.122380   \n",
            "Feature 10                              0.162555              0.116528   \n",
            "Feature 11                              0.102197              0.104396   \n",
            "Feature 12                              0.093201              0.027089   \n",
            "Feature 13                              0.118206              0.050795   \n",
            "Feature 14                              0.130564              0.123533   \n",
            "Feature 15                              0.016509              0.055067   \n",
            "Feature 16                              0.050470              0.049510   \n",
            "Feature 17                              0.170633              0.010716   \n",
            "Feature 18                              0.052958              0.029254   \n",
            "Feature 19 (Discrete)                   0.455951              0.057320   \n",
            "Feature 20 (Discrete)                   0.114144              0.247567   \n",
            "Feature 21 (Discrete)                   0.135167              0.067757   \n",
            "Feature 22 (Discrete)                   0.176220              0.006314   \n",
            "Feature 23 (Discrete)                   0.999994              0.103767   \n",
            "Feature 24                              0.049936              0.148014   \n",
            "Target Variable (Discrete)              0.035219              0.053451   \n",
            "\n",
            "                            Feature 3 (Discrete)  Feature 4 (Discrete)  \\\n",
            "Feature 1 (Discrete)                    0.754664              0.203457   \n",
            "Feature 2 (Discrete)                    0.050898              0.401782   \n",
            "Feature 3 (Discrete)                    1.000000              0.219460   \n",
            "Feature 4 (Discrete)                    0.219460              1.000000   \n",
            "Feature 5 (Discrete)                    0.003769              0.052913   \n",
            "Feature 6 (Discrete)                    0.066647              0.016119   \n",
            "Feature 7 (Discrete)                    0.020218              0.005712   \n",
            "Feature 8 (Discrete)                    0.064835              0.257502   \n",
            "Feature 9                               0.023313              0.151722   \n",
            "Feature 10                              0.150814              0.033234   \n",
            "Feature 11                              0.083958              0.023875   \n",
            "Feature 12                              0.090098              0.036212   \n",
            "Feature 13                              0.064418              0.003601   \n",
            "Feature 14                              0.112438              0.040969   \n",
            "Feature 15                              0.053913              0.020971   \n",
            "Feature 16                              0.087483              0.028329   \n",
            "Feature 17                              0.080418              0.010187   \n",
            "Feature 18                              0.046952              0.012391   \n",
            "Feature 19 (Discrete)                   0.355913              0.109023   \n",
            "Feature 20 (Discrete)                   0.071871              0.422133   \n",
            "Feature 21 (Discrete)                   0.094806              0.071546   \n",
            "Feature 22 (Discrete)                   0.104231              0.012338   \n",
            "Feature 23 (Discrete)                   0.754753              0.203465   \n",
            "Feature 24                              0.048968              0.056348   \n",
            "Target Variable (Discrete)              0.069282              0.014784   \n",
            "\n",
            "                            Feature 5 (Discrete)  Feature 6 (Discrete)  \\\n",
            "Feature 1 (Discrete)                    0.013211              0.053105   \n",
            "Feature 2 (Discrete)                    0.056697              0.037643   \n",
            "Feature 3 (Discrete)                    0.003769              0.066647   \n",
            "Feature 4 (Discrete)                    0.052913              0.016119   \n",
            "Feature 5 (Discrete)                    1.000000              0.000774   \n",
            "Feature 6 (Discrete)                    0.000774              1.000000   \n",
            "Feature 7 (Discrete)                    0.051127              0.094549   \n",
            "Feature 8 (Discrete)                    0.241524              0.149133   \n",
            "Feature 9                               0.023035              0.063851   \n",
            "Feature 10                              0.158284              0.601260   \n",
            "Feature 11                              0.119851              0.773870   \n",
            "Feature 12                              0.015438              0.512958   \n",
            "Feature 13                              0.244901              0.565357   \n",
            "Feature 14                              0.145475              0.691943   \n",
            "Feature 15                              0.102342              0.346796   \n",
            "Feature 16                              0.247722              0.248154   \n",
            "Feature 17                              0.350615              0.255884   \n",
            "Feature 18                              0.005242              0.049893   \n",
            "Feature 19 (Discrete)                   0.136688              0.322023   \n",
            "Feature 20 (Discrete)                   0.020918              0.083935   \n",
            "Feature 21 (Discrete)                   0.030822              0.402180   \n",
            "Feature 22 (Discrete)                   0.231758              0.106462   \n",
            "Feature 23 (Discrete)                   0.012591              0.053063   \n",
            "Feature 24                              0.201791              0.121379   \n",
            "Target Variable (Discrete)              0.191183              0.282696   \n",
            "\n",
            "                            Feature 7 (Discrete)  Feature 8 (Discrete)  \\\n",
            "Feature 1 (Discrete)                    0.009949              0.012435   \n",
            "Feature 2 (Discrete)                    0.056650              0.165555   \n",
            "Feature 3 (Discrete)                    0.020218              0.064835   \n",
            "Feature 4 (Discrete)                    0.005712              0.257502   \n",
            "Feature 5 (Discrete)                    0.051127              0.241524   \n",
            "Feature 6 (Discrete)                    0.094549              0.149133   \n",
            "Feature 7 (Discrete)                    1.000000              0.054994   \n",
            "Feature 8 (Discrete)                    0.054994              1.000000   \n",
            "Feature 9                               0.059460              0.047049   \n",
            "Feature 10                              0.190587              0.227661   \n",
            "Feature 11                              0.146982              0.050091   \n",
            "Feature 12                              0.108969              0.301108   \n",
            "Feature 13                              0.164921              0.055686   \n",
            "Feature 14                              0.206350              0.134380   \n",
            "Feature 15                              0.081269              0.088081   \n",
            "Feature 16                              0.050473              0.148019   \n",
            "Feature 17                              0.182508              0.423021   \n",
            "Feature 18                              0.132130              0.109471   \n",
            "Feature 19 (Discrete)                   0.102517              0.021644   \n",
            "Feature 20 (Discrete)                   0.046343              0.153628   \n",
            "Feature 21 (Discrete)                   0.047158              0.009049   \n",
            "Feature 22 (Discrete)                   0.067487              0.157622   \n",
            "Feature 23 (Discrete)                   0.009812              0.011641   \n",
            "Feature 24                              0.042830              0.162042   \n",
            "Target Variable (Discrete)              0.170527              0.074167   \n",
            "\n",
            "                            Feature 9  Feature 10  ...  Feature 16  \\\n",
            "Feature 1 (Discrete)         0.011183    0.162555  ...    0.050470   \n",
            "Feature 2 (Discrete)         0.122380    0.116528  ...    0.049510   \n",
            "Feature 3 (Discrete)         0.023313    0.150814  ...    0.087483   \n",
            "Feature 4 (Discrete)         0.151722    0.033234  ...    0.028329   \n",
            "Feature 5 (Discrete)         0.023035    0.158284  ...    0.247722   \n",
            "Feature 6 (Discrete)         0.063851    0.601260  ...    0.248154   \n",
            "Feature 7 (Discrete)         0.059460    0.190587  ...    0.050473   \n",
            "Feature 8 (Discrete)         0.047049    0.227661  ...    0.148019   \n",
            "Feature 9                    1.000000    0.145691  ...    0.065238   \n",
            "Feature 10                   0.145691    1.000000  ...    0.395918   \n",
            "Feature 11                   0.117893    0.827929  ...    0.334570   \n",
            "Feature 12                   0.018252    0.109918  ...    0.032169   \n",
            "Feature 13                   0.121439    0.859556  ...    0.300358   \n",
            "Feature 14                   0.135832    0.916310  ...    0.379107   \n",
            "Feature 15                   0.020628    0.603995  ...    0.964974   \n",
            "Feature 16                   0.065238    0.395918  ...    1.000000   \n",
            "Feature 17                   0.095454    0.674477  ...    0.861138   \n",
            "Feature 18                   0.012249    0.112283  ...    0.016520   \n",
            "Feature 19 (Discrete)        0.015958    0.470362  ...    0.231489   \n",
            "Feature 20 (Discrete)        0.062827    0.166635  ...    0.117660   \n",
            "Feature 21 (Discrete)        0.075739    0.468624  ...    0.257675   \n",
            "Feature 22 (Discrete)        0.043147    0.252332  ...    0.277482   \n",
            "Feature 23 (Discrete)        0.011038    0.162063  ...    0.051232   \n",
            "Feature 24                   0.051792    0.200572  ...    0.220374   \n",
            "Target Variable (Discrete)   0.061550    0.024457  ...    0.135530   \n",
            "\n",
            "                            Feature 17  Feature 18  Feature 19 (Discrete)  \\\n",
            "Feature 1 (Discrete)          0.170633    0.052958               0.455951   \n",
            "Feature 2 (Discrete)          0.010716    0.029254               0.057320   \n",
            "Feature 3 (Discrete)          0.080418    0.046952               0.355913   \n",
            "Feature 4 (Discrete)          0.010187    0.012391               0.109023   \n",
            "Feature 5 (Discrete)          0.350615    0.005242               0.136688   \n",
            "Feature 6 (Discrete)          0.255884    0.049893               0.322023   \n",
            "Feature 7 (Discrete)          0.182508    0.132130               0.102517   \n",
            "Feature 8 (Discrete)          0.423021    0.109471               0.021644   \n",
            "Feature 9                     0.095454    0.012249               0.015958   \n",
            "Feature 10                    0.674477    0.112283               0.470362   \n",
            "Feature 11                    0.505588    0.047111               0.374166   \n",
            "Feature 12                    0.079078    0.110057               0.061911   \n",
            "Feature 13                    0.628153    0.111031               0.463050   \n",
            "Feature 14                    0.596624    0.088131               0.417465   \n",
            "Feature 15                    0.871491    0.043166               0.347517   \n",
            "Feature 16                    0.861138    0.016520               0.231489   \n",
            "Feature 17                    1.000000    0.122822               0.421685   \n",
            "Feature 18                    0.122822    1.000000               0.136933   \n",
            "Feature 19 (Discrete)         0.421685    0.136933               1.000000   \n",
            "Feature 20 (Discrete)         0.165665    0.049769               0.353398   \n",
            "Feature 21 (Discrete)         0.186984    0.077622               0.267652   \n",
            "Feature 22 (Discrete)         0.285114    0.092926               0.157943   \n",
            "Feature 23 (Discrete)         0.169283    0.052820               0.455760   \n",
            "Feature 24                    0.017059    0.078287               0.187869   \n",
            "Target Variable (Discrete)    0.194367    0.075879               0.051699   \n",
            "\n",
            "                            Feature 20 (Discrete)  Feature 21 (Discrete)  \\\n",
            "Feature 1 (Discrete)                     0.114144               0.135167   \n",
            "Feature 2 (Discrete)                     0.247567               0.067757   \n",
            "Feature 3 (Discrete)                     0.071871               0.094806   \n",
            "Feature 4 (Discrete)                     0.422133               0.071546   \n",
            "Feature 5 (Discrete)                     0.020918               0.030822   \n",
            "Feature 6 (Discrete)                     0.083935               0.402180   \n",
            "Feature 7 (Discrete)                     0.046343               0.047158   \n",
            "Feature 8 (Discrete)                     0.153628               0.009049   \n",
            "Feature 9                                0.062827               0.075739   \n",
            "Feature 10                               0.166635               0.468624   \n",
            "Feature 11                               0.100182               0.450350   \n",
            "Feature 12                               0.014755               0.084593   \n",
            "Feature 13                               0.222816               0.412296   \n",
            "Feature 14                               0.116167               0.456255   \n",
            "Feature 15                               0.184020               0.309841   \n",
            "Feature 16                               0.117660               0.257675   \n",
            "Feature 17                               0.165665               0.186984   \n",
            "Feature 18                               0.049769               0.077622   \n",
            "Feature 19 (Discrete)                    0.353398               0.267652   \n",
            "Feature 20 (Discrete)                    1.000000               0.080822   \n",
            "Feature 21 (Discrete)                    0.080822               1.000000   \n",
            "Feature 22 (Discrete)                    0.055578               0.343141   \n",
            "Feature 23 (Discrete)                    0.113935               0.135037   \n",
            "Feature 24                               0.113478               0.133742   \n",
            "Target Variable (Discrete)               0.143286               0.045311   \n",
            "\n",
            "                            Feature 22 (Discrete)  Feature 23 (Discrete)  \\\n",
            "Feature 1 (Discrete)                     0.176220               0.999994   \n",
            "Feature 2 (Discrete)                     0.006314               0.103767   \n",
            "Feature 3 (Discrete)                     0.104231               0.754753   \n",
            "Feature 4 (Discrete)                     0.012338               0.203465   \n",
            "Feature 5 (Discrete)                     0.231758               0.012591   \n",
            "Feature 6 (Discrete)                     0.106462               0.053063   \n",
            "Feature 7 (Discrete)                     0.067487               0.009812   \n",
            "Feature 8 (Discrete)                     0.157622               0.011641   \n",
            "Feature 9                                0.043147               0.011038   \n",
            "Feature 10                               0.252332               0.162063   \n",
            "Feature 11                               0.224672               0.101763   \n",
            "Feature 12                               0.038763               0.093324   \n",
            "Feature 13                               0.216307               0.117841   \n",
            "Feature 14                               0.239837               0.130106   \n",
            "Feature 15                               0.190509               0.016914   \n",
            "Feature 16                               0.277482               0.051232   \n",
            "Feature 17                               0.285114               0.169283   \n",
            "Feature 18                               0.092926               0.052820   \n",
            "Feature 19 (Discrete)                    0.157943               0.455760   \n",
            "Feature 20 (Discrete)                    0.055578               0.113935   \n",
            "Feature 21 (Discrete)                    0.343141               0.135037   \n",
            "Feature 22 (Discrete)                    1.000000               0.175807   \n",
            "Feature 23 (Discrete)                    0.175807               1.000000   \n",
            "Feature 24                               0.132890               0.050271   \n",
            "Target Variable (Discrete)               0.052072               0.035562   \n",
            "\n",
            "                            Feature 24  Target Variable (Discrete)  \n",
            "Feature 1 (Discrete)          0.049936                    0.035219  \n",
            "Feature 2 (Discrete)          0.148014                    0.053451  \n",
            "Feature 3 (Discrete)          0.048968                    0.069282  \n",
            "Feature 4 (Discrete)          0.056348                    0.014784  \n",
            "Feature 5 (Discrete)          0.201791                    0.191183  \n",
            "Feature 6 (Discrete)          0.121379                    0.282696  \n",
            "Feature 7 (Discrete)          0.042830                    0.170527  \n",
            "Feature 8 (Discrete)          0.162042                    0.074167  \n",
            "Feature 9                     0.051792                    0.061550  \n",
            "Feature 10                    0.200572                    0.024457  \n",
            "Feature 11                    0.212668                    0.084739  \n",
            "Feature 12                    0.033226                    0.079235  \n",
            "Feature 13                    0.198579                    0.054799  \n",
            "Feature 14                    0.224151                    0.050529  \n",
            "Feature 15                    0.111330                    0.120844  \n",
            "Feature 16                    0.220374                    0.135530  \n",
            "Feature 17                    0.017059                    0.194367  \n",
            "Feature 18                    0.078287                    0.075879  \n",
            "Feature 19 (Discrete)         0.187869                    0.051699  \n",
            "Feature 20 (Discrete)         0.113478                    0.143286  \n",
            "Feature 21 (Discrete)         0.133742                    0.045311  \n",
            "Feature 22 (Discrete)         0.132890                    0.052072  \n",
            "Feature 23 (Discrete)         0.050271                    0.035562  \n",
            "Feature 24                    1.000000                    0.088112  \n",
            "Target Variable (Discrete)    0.088112                    1.000000  \n",
            "\n",
            "[25 rows x 25 columns]\n"
          ],
          "name": "stdout"
        }
      ]
    },
    {
      "cell_type": "code",
      "metadata": {
        "trusted": true,
        "id": "rXR8VASOy-4E",
        "outputId": "e8dc59f1-19ad-46e4-95e8-884ba8877de5"
      },
      "source": [
        "upper = corr_matrix.where(np.triu(np.ones(corr_matrix.shape),k=1).astype(np.bool))\n",
        "to_drop = [column for column in upper.columns if any(upper[column] > 0.95)]\n",
        "print(to_drop)"
      ],
      "execution_count": null,
      "outputs": [
        {
          "output_type": "stream",
          "text": [
            "['Feature 14', 'Feature 16', 'Feature 23 (Discrete)']\n"
          ],
          "name": "stdout"
        }
      ]
    },
    {
      "cell_type": "code",
      "metadata": {
        "trusted": true,
        "id": "nb0kDOwsy-4F"
      },
      "source": [
        "# Handling of null values with median - Feature 10,11,12,13,14,24\n",
        "train_dataframe['Feature 10']=train_dataframe['Feature 10'].fillna(train_dataframe['Feature 10'].median())\n",
        "train_dataframe['Feature 11']=train_dataframe['Feature 11'].fillna(train_dataframe['Feature 11'].median())\n",
        "train_dataframe['Feature 12']=train_dataframe['Feature 12'].fillna(train_dataframe['Feature 12'].median())\n",
        "train_dataframe['Feature 13']=train_dataframe['Feature 13'].fillna(train_dataframe['Feature 13'].median())\n",
        "train_dataframe['Feature 24']=train_dataframe['Feature 24'].fillna(train_dataframe['Feature 24'].median())"
      ],
      "execution_count": null,
      "outputs": []
    },
    {
      "cell_type": "code",
      "metadata": {
        "trusted": true,
        "id": "btTPJ5oIy-4F"
      },
      "source": [
        "# Handling of null values with mean - Feature 9,15\n",
        "train_dataframe['Feature 9']=train_dataframe['Feature 9'].fillna(train_dataframe['Feature 9'].mean())\n",
        "train_dataframe['Feature 15']=train_dataframe['Feature 15'].fillna(train_dataframe['Feature 15'].mean())"
      ],
      "execution_count": null,
      "outputs": []
    },
    {
      "cell_type": "code",
      "metadata": {
        "trusted": true,
        "id": "aa88jB9Ry-4F"
      },
      "source": [
        "# Handling of null values with drop - Feature 16,17,18\n",
        "train_dataframe.drop(['Feature 14'],axis=1,inplace=True)\n",
        "train_dataframe.drop(['Feature 16'],axis=1,inplace=True)\n",
        "train_dataframe.drop(['Feature 17'],axis=1,inplace=True)\n",
        "train_dataframe.drop(['Feature 18'],axis=1,inplace=True)"
      ],
      "execution_count": null,
      "outputs": []
    },
    {
      "cell_type": "code",
      "metadata": {
        "trusted": true,
        "id": "KqctC_-Ty-4G",
        "outputId": "3c5cb78c-ad09-44ae-a1ba-4a585f80f7f5"
      },
      "source": [
        "# Final analysis for null values in dataset\n",
        "train_dataframe.isnull().sum()"
      ],
      "execution_count": null,
      "outputs": [
        {
          "output_type": "execute_result",
          "data": {
            "text/plain": [
              "Feature 1 (Discrete)          0\n",
              "Feature 2 (Discrete)          0\n",
              "Feature 3 (Discrete)          0\n",
              "Feature 4 (Discrete)          0\n",
              "Feature 5 (Discrete)          0\n",
              "Feature 6 (Discrete)          0\n",
              "Feature 7 (Discrete)          0\n",
              "Feature 8 (Discrete)          0\n",
              "Feature 9                     0\n",
              "Feature 10                    0\n",
              "Feature 11                    0\n",
              "Feature 12                    0\n",
              "Feature 13                    0\n",
              "Feature 15                    0\n",
              "Feature 19 (Discrete)         0\n",
              "Feature 20 (Discrete)         0\n",
              "Feature 21 (Discrete)         0\n",
              "Feature 22 (Discrete)         0\n",
              "Feature 23 (Discrete)         0\n",
              "Feature 24                    0\n",
              "Target Variable (Discrete)    0\n",
              "dtype: int64"
            ]
          },
          "metadata": {
            "tags": []
          },
          "execution_count": 10
        }
      ]
    },
    {
      "cell_type": "code",
      "metadata": {
        "trusted": true,
        "id": "S_icrDS5y-4G",
        "outputId": "2bc5d938-d1dc-43df-86f4-2bc948676b7b"
      },
      "source": [
        "#Number of rows and columns in final training dataset\n",
        "train_dataframe.shape"
      ],
      "execution_count": null,
      "outputs": [
        {
          "output_type": "execute_result",
          "data": {
            "text/plain": [
              "(994, 21)"
            ]
          },
          "metadata": {
            "tags": []
          },
          "execution_count": 11
        }
      ]
    },
    {
      "cell_type": "code",
      "metadata": {
        "trusted": true,
        "id": "Gv-Cshepy-4G",
        "outputId": "994f4e28-6b2b-4c8b-c40d-4a6b66425569"
      },
      "source": [
        "# Read of test dataset\n",
        "test_dataframe = pd.read_csv('test_input.csv')\n",
        "test_dataframe.isnull().sum()"
      ],
      "execution_count": null,
      "outputs": [
        {
          "output_type": "execute_result",
          "data": {
            "text/plain": [
              "Feature 1 (Discrete)       0\n",
              "Feature 2 (Discrete)       0\n",
              "Feature 3 (Discrete)       0\n",
              "Feature 4 (Discrete)       0\n",
              "Feature 5 (Discrete)       0\n",
              "Feature 6 (Discrete)       0\n",
              "Feature 7 (Discrete)       0\n",
              "Feature 8 (Discrete)       0\n",
              "Feature 9                  4\n",
              "Feature 10                 0\n",
              "Feature 11                 0\n",
              "Feature 12                 0\n",
              "Feature 13                 0\n",
              "Feature 14                 2\n",
              "Feature 15                31\n",
              "Feature 16               279\n",
              "Feature 17               225\n",
              "Feature 18               114\n",
              "Feature 19 (Discrete)      0\n",
              "Feature 20 (Discrete)      0\n",
              "Feature 21 (Discrete)      0\n",
              "Feature 22 (Discrete)      0\n",
              "Feature 23 (Discrete)      0\n",
              "Feature 24                 0\n",
              "dtype: int64"
            ]
          },
          "metadata": {
            "tags": []
          },
          "execution_count": 12
        }
      ]
    },
    {
      "cell_type": "code",
      "metadata": {
        "trusted": true,
        "id": "Kd4uWuuay-4H",
        "outputId": "6b45e627-a563-4b5b-e6d3-1ea860378da9"
      },
      "source": [
        "test_dataframe.shape"
      ],
      "execution_count": null,
      "outputs": [
        {
          "output_type": "execute_result",
          "data": {
            "text/plain": [
              "(426, 24)"
            ]
          },
          "metadata": {
            "tags": []
          },
          "execution_count": 13
        }
      ]
    },
    {
      "cell_type": "code",
      "metadata": {
        "trusted": true,
        "id": "utLcSG-Uy-4H"
      },
      "source": [
        "# Handling of null values with mean\n",
        "test_dataframe['Feature 9']=test_dataframe['Feature 9'].fillna(test_dataframe['Feature 9'].mean())\n",
        "test_dataframe['Feature 15']=test_dataframe['Feature 15'].fillna(test_dataframe['Feature 15'].mean())"
      ],
      "execution_count": null,
      "outputs": []
    },
    {
      "cell_type": "code",
      "metadata": {
        "trusted": true,
        "id": "dLxnCKD8y-4H",
        "outputId": "5b0c34aa-5cab-411e-ffa7-a5cf3f4077af"
      },
      "source": [
        "# Create correlation matrix\n",
        "corr_matrix_test = test_dataframe.corr().abs()\n",
        "print(corr_matrix_test)"
      ],
      "execution_count": null,
      "outputs": [
        {
          "output_type": "stream",
          "text": [
            "                       Feature 1 (Discrete)  Feature 2 (Discrete)  \\\n",
            "Feature 1 (Discrete)               1.000000              0.112060   \n",
            "Feature 2 (Discrete)               0.112060              1.000000   \n",
            "Feature 3 (Discrete)               0.760184              0.081171   \n",
            "Feature 4 (Discrete)               0.223925              0.594945   \n",
            "Feature 5 (Discrete)               0.003736              0.010054   \n",
            "Feature 6 (Discrete)               0.108514              0.034507   \n",
            "Feature 7 (Discrete)               0.005353              0.015140   \n",
            "Feature 8 (Discrete)               0.059461              0.194186   \n",
            "Feature 9                          0.008040              0.276223   \n",
            "Feature 10                         0.205115              0.103894   \n",
            "Feature 11                         0.064727              0.070158   \n",
            "Feature 12                         0.104216              0.012692   \n",
            "Feature 13                         0.181398              0.010325   \n",
            "Feature 14                         0.079866              0.068722   \n",
            "Feature 15                         0.129947              0.020654   \n",
            "Feature 16                         0.145181              0.047874   \n",
            "Feature 17                         0.232352              0.020387   \n",
            "Feature 18                         0.054351              0.030390   \n",
            "Feature 19 (Discrete)              0.543483              0.083038   \n",
            "Feature 20 (Discrete)              0.149218              0.324930   \n",
            "Feature 21 (Discrete)              0.182629              0.049003   \n",
            "Feature 22 (Discrete)              0.227485              0.120744   \n",
            "Feature 23 (Discrete)              0.999994              0.111713   \n",
            "Feature 24                         0.006110              0.096139   \n",
            "\n",
            "                       Feature 3 (Discrete)  Feature 4 (Discrete)  \\\n",
            "Feature 1 (Discrete)               0.760184              0.223925   \n",
            "Feature 2 (Discrete)               0.081171              0.594945   \n",
            "Feature 3 (Discrete)               1.000000              0.244776   \n",
            "Feature 4 (Discrete)               0.244776              1.000000   \n",
            "Feature 5 (Discrete)               0.037308              0.121629   \n",
            "Feature 6 (Discrete)               0.122821              0.052132   \n",
            "Feature 7 (Discrete)               0.055598              0.035186   \n",
            "Feature 8 (Discrete)               0.042258              0.340514   \n",
            "Feature 9                          0.047484              0.254240   \n",
            "Feature 10                         0.180702              0.027992   \n",
            "Feature 11                         0.038842              0.035763   \n",
            "Feature 12                         0.094952              0.086738   \n",
            "Feature 13                         0.134848              0.044999   \n",
            "Feature 14                         0.053420              0.015100   \n",
            "Feature 15                         0.107493              0.037935   \n",
            "Feature 16                         0.186596              0.069732   \n",
            "Feature 17                         0.097265              0.006991   \n",
            "Feature 18                         0.081499              0.024333   \n",
            "Feature 19 (Discrete)              0.412374              0.069879   \n",
            "Feature 20 (Discrete)              0.141185              0.435120   \n",
            "Feature 21 (Discrete)              0.142308              0.033781   \n",
            "Feature 22 (Discrete)              0.123854              0.113047   \n",
            "Feature 23 (Discrete)              0.760690              0.223844   \n",
            "Feature 24                         0.047211              0.088461   \n",
            "\n",
            "                       Feature 5 (Discrete)  Feature 6 (Discrete)  \\\n",
            "Feature 1 (Discrete)               0.003736              0.108514   \n",
            "Feature 2 (Discrete)               0.010054              0.034507   \n",
            "Feature 3 (Discrete)               0.037308              0.122821   \n",
            "Feature 4 (Discrete)               0.121629              0.052132   \n",
            "Feature 5 (Discrete)               1.000000              0.014610   \n",
            "Feature 6 (Discrete)               0.014610              1.000000   \n",
            "Feature 7 (Discrete)               0.041923              0.175642   \n",
            "Feature 8 (Discrete)               0.359212              0.129398   \n",
            "Feature 9                          0.014384              0.060385   \n",
            "Feature 10                         0.123814              0.668287   \n",
            "Feature 11                         0.058093              0.620657   \n",
            "Feature 12                         0.016190              0.481306   \n",
            "Feature 13                         0.185620              0.552076   \n",
            "Feature 14                         0.070740              0.555292   \n",
            "Feature 15                         0.075269              0.436473   \n",
            "Feature 16                         0.251560              0.465229   \n",
            "Feature 17                         0.332985              0.276331   \n",
            "Feature 18                         0.039696              0.047959   \n",
            "Feature 19 (Discrete)              0.103607              0.256552   \n",
            "Feature 20 (Discrete)              0.161331              0.150408   \n",
            "Feature 21 (Discrete)              0.063070              0.348531   \n",
            "Feature 22 (Discrete)              0.273916              0.073861   \n",
            "Feature 23 (Discrete)              0.003295              0.108555   \n",
            "Feature 24                         0.347349              0.089108   \n",
            "\n",
            "                       Feature 7 (Discrete)  Feature 8 (Discrete)  Feature 9  \\\n",
            "Feature 1 (Discrete)               0.005353              0.059461   0.008040   \n",
            "Feature 2 (Discrete)               0.015140              0.194186   0.276223   \n",
            "Feature 3 (Discrete)               0.055598              0.042258   0.047484   \n",
            "Feature 4 (Discrete)               0.035186              0.340514   0.254240   \n",
            "Feature 5 (Discrete)               0.041923              0.359212   0.014384   \n",
            "Feature 6 (Discrete)               0.175642              0.129398   0.060385   \n",
            "Feature 7 (Discrete)               1.000000              0.151704   0.068066   \n",
            "Feature 8 (Discrete)               0.151704              1.000000   0.041648   \n",
            "Feature 9                          0.068066              0.041648   1.000000   \n",
            "Feature 10                         0.154785              0.213654   0.120616   \n",
            "Feature 11                         0.128969              0.130637   0.063034   \n",
            "Feature 12                         0.057094              0.369350   0.015686   \n",
            "Feature 13                         0.134431              0.087952   0.099341   \n",
            "Feature 14                         0.164376              0.071061   0.068028   \n",
            "Feature 15                         0.072911              0.202477   0.001647   \n",
            "Feature 16                         0.100178              0.338621   0.139080   \n",
            "Feature 17                         0.156835              0.436429   0.126937   \n",
            "Feature 18                         0.278126              0.004164   0.101295   \n",
            "Feature 19 (Discrete)              0.025068              0.122730   0.057400   \n",
            "Feature 20 (Discrete)              0.030161              0.223619   0.072924   \n",
            "Feature 21 (Discrete)              0.084839              0.109526   0.061385   \n",
            "Feature 22 (Discrete)              0.031082              0.270353   0.082892   \n",
            "Feature 23 (Discrete)              0.005369              0.058825   0.007661   \n",
            "Feature 24                         0.120670              0.176362   0.099049   \n",
            "\n",
            "                       Feature 10  ...  Feature 15  Feature 16  Feature 17  \\\n",
            "Feature 1 (Discrete)     0.205115  ...    0.129947    0.145181    0.232352   \n",
            "Feature 2 (Discrete)     0.103894  ...    0.020654    0.047874    0.020387   \n",
            "Feature 3 (Discrete)     0.180702  ...    0.107493    0.186596    0.097265   \n",
            "Feature 4 (Discrete)     0.027992  ...    0.037935    0.069732    0.006991   \n",
            "Feature 5 (Discrete)     0.123814  ...    0.075269    0.251560    0.332985   \n",
            "Feature 6 (Discrete)     0.668287  ...    0.436473    0.465229    0.276331   \n",
            "Feature 7 (Discrete)     0.154785  ...    0.072911    0.100178    0.156835   \n",
            "Feature 8 (Discrete)     0.213654  ...    0.202477    0.338621    0.436429   \n",
            "Feature 9                0.120616  ...    0.001647    0.139080    0.126937   \n",
            "Feature 10               1.000000  ...    0.671655    0.677112    0.651419   \n",
            "Feature 11               0.630629  ...    0.406457    0.476374    0.401548   \n",
            "Feature 12               0.040818  ...    0.025445    0.127923    0.122648   \n",
            "Feature 13               0.864321  ...    0.604630    0.616323    0.628537   \n",
            "Feature 14               0.669484  ...    0.436735    0.565072    0.561676   \n",
            "Feature 15               0.671655  ...    1.000000    0.886356    0.876546   \n",
            "Feature 16               0.677112  ...    0.886356    1.000000    0.860720   \n",
            "Feature 17               0.651419  ...    0.876546    0.860720    1.000000   \n",
            "Feature 18               0.008386  ...    0.022177    0.003534    0.083179   \n",
            "Feature 19 (Discrete)    0.377370  ...    0.343705    0.397869    0.397524   \n",
            "Feature 20 (Discrete)    0.214816  ...    0.229295    0.177401    0.211232   \n",
            "Feature 21 (Discrete)    0.434966  ...    0.325565    0.282496    0.208008   \n",
            "Feature 22 (Discrete)    0.182671  ...    0.152649    0.149634    0.266901   \n",
            "Feature 23 (Discrete)    0.204850  ...    0.129508    0.144265    0.231254   \n",
            "Feature 24               0.163126  ...    0.103490    0.164725    0.110466   \n",
            "\n",
            "                       Feature 18  Feature 19 (Discrete)  \\\n",
            "Feature 1 (Discrete)     0.054351               0.543483   \n",
            "Feature 2 (Discrete)     0.030390               0.083038   \n",
            "Feature 3 (Discrete)     0.081499               0.412374   \n",
            "Feature 4 (Discrete)     0.024333               0.069879   \n",
            "Feature 5 (Discrete)     0.039696               0.103607   \n",
            "Feature 6 (Discrete)     0.047959               0.256552   \n",
            "Feature 7 (Discrete)     0.278126               0.025068   \n",
            "Feature 8 (Discrete)     0.004164               0.122730   \n",
            "Feature 9                0.101295               0.057400   \n",
            "Feature 10               0.008386               0.377370   \n",
            "Feature 11               0.022532               0.216551   \n",
            "Feature 12               0.028156               0.055012   \n",
            "Feature 13               0.005764               0.396766   \n",
            "Feature 14               0.018426               0.243589   \n",
            "Feature 15               0.022177               0.343705   \n",
            "Feature 16               0.003534               0.397869   \n",
            "Feature 17               0.083179               0.397524   \n",
            "Feature 18               1.000000               0.133470   \n",
            "Feature 19 (Discrete)    0.133470               1.000000   \n",
            "Feature 20 (Discrete)    0.036270               0.313609   \n",
            "Feature 21 (Discrete)    0.020420               0.206596   \n",
            "Feature 22 (Discrete)    0.002525               0.181411   \n",
            "Feature 23 (Discrete)    0.054631               0.543590   \n",
            "Feature 24               0.008754               0.034927   \n",
            "\n",
            "                       Feature 20 (Discrete)  Feature 21 (Discrete)  \\\n",
            "Feature 1 (Discrete)                0.149218               0.182629   \n",
            "Feature 2 (Discrete)                0.324930               0.049003   \n",
            "Feature 3 (Discrete)                0.141185               0.142308   \n",
            "Feature 4 (Discrete)                0.435120               0.033781   \n",
            "Feature 5 (Discrete)                0.161331               0.063070   \n",
            "Feature 6 (Discrete)                0.150408               0.348531   \n",
            "Feature 7 (Discrete)                0.030161               0.084839   \n",
            "Feature 8 (Discrete)                0.223619               0.109526   \n",
            "Feature 9                           0.072924               0.061385   \n",
            "Feature 10                          0.214816               0.434966   \n",
            "Feature 11                          0.125197               0.235635   \n",
            "Feature 12                          0.003862               0.012997   \n",
            "Feature 13                          0.293824               0.353311   \n",
            "Feature 14                          0.128912               0.217897   \n",
            "Feature 15                          0.229295               0.325565   \n",
            "Feature 16                          0.177401               0.282496   \n",
            "Feature 17                          0.211232               0.208008   \n",
            "Feature 18                          0.036270               0.020420   \n",
            "Feature 19 (Discrete)               0.313609               0.206596   \n",
            "Feature 20 (Discrete)               1.000000               0.062810   \n",
            "Feature 21 (Discrete)               0.062810               1.000000   \n",
            "Feature 22 (Discrete)               0.030002               0.321579   \n",
            "Feature 23 (Discrete)               0.149014               0.182667   \n",
            "Feature 24                          0.156559               0.123547   \n",
            "\n",
            "                       Feature 22 (Discrete)  Feature 23 (Discrete)  \\\n",
            "Feature 1 (Discrete)                0.227485               0.999994   \n",
            "Feature 2 (Discrete)                0.120744               0.111713   \n",
            "Feature 3 (Discrete)                0.123854               0.760690   \n",
            "Feature 4 (Discrete)                0.113047               0.223844   \n",
            "Feature 5 (Discrete)                0.273916               0.003295   \n",
            "Feature 6 (Discrete)                0.073861               0.108555   \n",
            "Feature 7 (Discrete)                0.031082               0.005369   \n",
            "Feature 8 (Discrete)                0.270353               0.058825   \n",
            "Feature 9                           0.082892               0.007661   \n",
            "Feature 10                          0.182671               0.204850   \n",
            "Feature 11                          0.019457               0.064477   \n",
            "Feature 12                          0.088279               0.104285   \n",
            "Feature 13                          0.152751               0.181234   \n",
            "Feature 14                          0.039592               0.079617   \n",
            "Feature 15                          0.152649               0.129508   \n",
            "Feature 16                          0.149634               0.144265   \n",
            "Feature 17                          0.266901               0.231254   \n",
            "Feature 18                          0.002525               0.054631   \n",
            "Feature 19 (Discrete)               0.181411               0.543590   \n",
            "Feature 20 (Discrete)               0.030002               0.149014   \n",
            "Feature 21 (Discrete)               0.321579               0.182667   \n",
            "Feature 22 (Discrete)               1.000000               0.227110   \n",
            "Feature 23 (Discrete)               0.227110               1.000000   \n",
            "Feature 24                          0.191185               0.006611   \n",
            "\n",
            "                       Feature 24  \n",
            "Feature 1 (Discrete)     0.006110  \n",
            "Feature 2 (Discrete)     0.096139  \n",
            "Feature 3 (Discrete)     0.047211  \n",
            "Feature 4 (Discrete)     0.088461  \n",
            "Feature 5 (Discrete)     0.347349  \n",
            "Feature 6 (Discrete)     0.089108  \n",
            "Feature 7 (Discrete)     0.120670  \n",
            "Feature 8 (Discrete)     0.176362  \n",
            "Feature 9                0.099049  \n",
            "Feature 10               0.163126  \n",
            "Feature 11               0.131161  \n",
            "Feature 12               0.039168  \n",
            "Feature 13               0.134869  \n",
            "Feature 14               0.120458  \n",
            "Feature 15               0.103490  \n",
            "Feature 16               0.164725  \n",
            "Feature 17               0.110466  \n",
            "Feature 18               0.008754  \n",
            "Feature 19 (Discrete)    0.034927  \n",
            "Feature 20 (Discrete)    0.156559  \n",
            "Feature 21 (Discrete)    0.123547  \n",
            "Feature 22 (Discrete)    0.191185  \n",
            "Feature 23 (Discrete)    0.006611  \n",
            "Feature 24               1.000000  \n",
            "\n",
            "[24 rows x 24 columns]\n"
          ],
          "name": "stdout"
        }
      ]
    },
    {
      "cell_type": "code",
      "metadata": {
        "trusted": true,
        "id": "YbXzbKtcy-4H",
        "outputId": "2ac7264b-8f1c-440d-a94f-e9188eee0d7c"
      },
      "source": [
        "upper = corr_matrix_test.where(np.triu(np.ones(corr_matrix_test.shape),k=1).astype(np.bool))\n",
        "to_drop = [column for column in upper.columns if any(upper[column] > 0.95)]\n",
        "print(to_drop)"
      ],
      "execution_count": null,
      "outputs": [
        {
          "output_type": "stream",
          "text": [
            "['Feature 14', 'Feature 23 (Discrete)']\n"
          ],
          "name": "stdout"
        }
      ]
    },
    {
      "cell_type": "code",
      "metadata": {
        "trusted": true,
        "id": "Bj1vr3g0y-4H"
      },
      "source": [
        "# Handling of null values with drop - Feature 17,18\n",
        "test_dataframe.drop(['Feature 14'],axis=1,inplace=True)\n",
        "test_dataframe.drop(['Feature 16'],axis=1,inplace=True)\n",
        "test_dataframe.drop(['Feature 17'],axis=1,inplace=True)\n",
        "test_dataframe.drop(['Feature 18'],axis=1,inplace=True)"
      ],
      "execution_count": null,
      "outputs": []
    },
    {
      "cell_type": "code",
      "metadata": {
        "trusted": true,
        "id": "S5AHqZ3vy-4I",
        "outputId": "a0df1492-5108-4e99-a2fd-0dbb7477b4bf"
      },
      "source": [
        "test_dataframe.isnull().sum()"
      ],
      "execution_count": null,
      "outputs": [
        {
          "output_type": "execute_result",
          "data": {
            "text/plain": [
              "Feature 1 (Discrete)     0\n",
              "Feature 2 (Discrete)     0\n",
              "Feature 3 (Discrete)     0\n",
              "Feature 4 (Discrete)     0\n",
              "Feature 5 (Discrete)     0\n",
              "Feature 6 (Discrete)     0\n",
              "Feature 7 (Discrete)     0\n",
              "Feature 8 (Discrete)     0\n",
              "Feature 9                0\n",
              "Feature 10               0\n",
              "Feature 11               0\n",
              "Feature 12               0\n",
              "Feature 13               0\n",
              "Feature 15               0\n",
              "Feature 19 (Discrete)    0\n",
              "Feature 20 (Discrete)    0\n",
              "Feature 21 (Discrete)    0\n",
              "Feature 22 (Discrete)    0\n",
              "Feature 23 (Discrete)    0\n",
              "Feature 24               0\n",
              "dtype: int64"
            ]
          },
          "metadata": {
            "tags": []
          },
          "execution_count": 18
        }
      ]
    },
    {
      "cell_type": "code",
      "metadata": {
        "trusted": true,
        "id": "rfTba5mly-4I",
        "outputId": "9ca580e5-dc1c-4297-a66a-2ddc91232cb5"
      },
      "source": [
        "train_dataframe.shape"
      ],
      "execution_count": null,
      "outputs": [
        {
          "output_type": "execute_result",
          "data": {
            "text/plain": [
              "(994, 21)"
            ]
          },
          "metadata": {
            "tags": []
          },
          "execution_count": 19
        }
      ]
    },
    {
      "cell_type": "code",
      "metadata": {
        "trusted": true,
        "id": "DJDGpPgvy-4I",
        "outputId": "3f95af80-e15f-43ba-e386-d76520e6c70a"
      },
      "source": [
        "test_dataframe.shape"
      ],
      "execution_count": null,
      "outputs": [
        {
          "output_type": "execute_result",
          "data": {
            "text/plain": [
              "(426, 20)"
            ]
          },
          "metadata": {
            "tags": []
          },
          "execution_count": 20
        }
      ]
    },
    {
      "cell_type": "code",
      "metadata": {
        "trusted": true,
        "id": "dUKhuI4Gy-4I"
      },
      "source": [
        "X_train = train_dataframe.drop(['Target Variable (Discrete)'],axis=1)\n",
        "y_train = train_dataframe['Target Variable (Discrete)']"
      ],
      "execution_count": null,
      "outputs": []
    },
    {
      "cell_type": "code",
      "metadata": {
        "trusted": true,
        "id": "OrVSK5r5y-4J"
      },
      "source": [
        "X_test = test_dataframe"
      ],
      "execution_count": null,
      "outputs": []
    },
    {
      "cell_type": "code",
      "metadata": {
        "trusted": true,
        "id": "4WQsK8HMy-4J",
        "outputId": "f27c244d-0064-4363-a58c-1b01d728adcb"
      },
      "source": [
        "#Hyperparameter tuning using GridSearchCV\n",
        "from sklearn.ensemble import RandomForestClassifier\n",
        "from sklearn.model_selection import GridSearchCV\n",
        "\n",
        "param_grid = [\n",
        "{ 'n_estimators' : [int(x) for x in np.linspace(start = 20, stop = 1000, num = 5)], 'max_features': [5, 10], \n",
        " 'max_depth': [int(x) for x in np.linspace(1, 100, num = 3)], 'bootstrap': [True, False]}\n",
        "]\n",
        "forest = RandomForestClassifier(n_jobs=-1)\n",
        "grid_search_forest = GridSearchCV(forest, param_grid, cv=10, scoring='neg_mean_squared_error')\n",
        "grid_search_forest.fit(X_train, y_train)"
      ],
      "execution_count": null,
      "outputs": [
        {
          "output_type": "stream",
          "text": [
            "/opt/conda/lib/python3.7/site-packages/sklearn/model_selection/_split.py:672: UserWarning: The least populated class in y has only 1 members, which is less than n_splits=10.\n",
            "  % (min_groups, self.n_splits)), UserWarning)\n"
          ],
          "name": "stderr"
        },
        {
          "output_type": "execute_result",
          "data": {
            "text/plain": [
              "GridSearchCV(cv=10, estimator=RandomForestClassifier(n_jobs=-1),\n",
              "             param_grid=[{'bootstrap': [True, False], 'max_depth': [1, 50, 100],\n",
              "                          'max_features': [5, 10],\n",
              "                          'n_estimators': [20, 265, 510, 755, 1000]}],\n",
              "             scoring='neg_mean_squared_error')"
            ]
          },
          "metadata": {
            "tags": []
          },
          "execution_count": 24
        }
      ]
    },
    {
      "cell_type": "code",
      "metadata": {
        "trusted": true,
        "id": "xpnWmgtGy-4J",
        "outputId": "b6de50de-b415-4849-a332-73b537f68548"
      },
      "source": [
        "# To analyse the best estimator\n",
        "grid_search_forest.best_estimator_"
      ],
      "execution_count": null,
      "outputs": [
        {
          "output_type": "execute_result",
          "data": {
            "text/plain": [
              "RandomForestClassifier(bootstrap=False, max_depth=100, max_features=5,\n",
              "                       n_estimators=265, n_jobs=-1)"
            ]
          },
          "metadata": {
            "tags": []
          },
          "execution_count": 27
        }
      ]
    },
    {
      "cell_type": "code",
      "metadata": {
        "trusted": true,
        "id": "hYkGq12dy-4J"
      },
      "source": [
        "#Predicted values correponding to X_test\n",
        "rf_grid = grid_search_forest.best_estimator_.predict(X_test)"
      ],
      "execution_count": null,
      "outputs": []
    },
    {
      "cell_type": "code",
      "metadata": {
        "trusted": true,
        "id": "st2E5xh5y-4J"
      },
      "source": [
        "#To store the predicted values result in test_output.csv file\n",
        "pred=pd.DataFrame(rf_grid)\n",
        "pred.index = np.arange(1, len(pred) + 1)\n",
        "pred.columns=['Id']\n",
        "pred.reset_index(inplace=True)\n",
        "pred.columns=['Id','Category']\n",
        "pred.to_csv('test_output.csv',index=False)"
      ],
      "execution_count": null,
      "outputs": []
    }
  ]
}